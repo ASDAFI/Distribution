{
  "nbformat": 4,
  "nbformat_minor": 0,
  "metadata": {
    "colab": {
      "provenance": [],
      "toc_visible": true,
      "collapsed_sections": [
        "4Y8IN-qCHasY",
        "7rNS1Y9Of22S",
        "smrIitmncVqw",
        "zNZLGy46gGKS",
        "dZ8fN0Lhsv_W",
        "cWGLcKlBtoC5",
        "ffoj-f8e6-T5",
        "KcPi9TqbXT7J",
        "C7LiYlq59qJp",
        "2lzE4QCB99Sx"
      ],
      "authorship_tag": "ABX9TyND8EQVTfU7DldzCL2aK476",
      "include_colab_link": true
    },
    "kernelspec": {
      "name": "python3",
      "display_name": "Python 3"
    },
    "language_info": {
      "name": "python"
    },
    "gpuClass": "standard"
  },
  "cells": [
    {
      "cell_type": "markdown",
      "metadata": {
        "id": "view-in-github",
        "colab_type": "text"
      },
      "source": [
        "<a href=\"https://colab.research.google.com/github/ASDAFI/Probability-Distributions/blob/master/Distributions.ipynb\" target=\"_parent\"><img src=\"https://colab.research.google.com/assets/colab-badge.svg\" alt=\"Open In Colab\"/></a>"
      ]
    },
    {
      "cell_type": "markdown",
      "source": [
        "# About\n",
        "\n",
        "Distributions and random variables\n",
        "\n",
        "Ali Sadafi - First course of probability\n",
        "\n",
        "under the supervision of Dr. Al mohammad\n",
        "\n"
      ],
      "metadata": {
        "id": "lpGeipaG1lpc"
      }
    },
    {
      "cell_type": "markdown",
      "source": [
        "# Requirements\n",
        "Here we install needed libraries using pip. then we import it to use.\n",
        "\n",
        "run cell blow to do this."
      ],
      "metadata": {
        "id": "zsm7JP6fw-om"
      }
    },
    {
      "cell_type": "code",
      "execution_count": null,
      "metadata": {
        "colab": {
          "base_uri": "https://localhost:8080/"
        },
        "id": "XPCoDKriw7kN",
        "outputId": "edd5f9e9-4ee4-4390-ab65-b94fad7e44e2"
      },
      "outputs": [
        {
          "output_type": "stream",
          "name": "stdout",
          "text": [
            "Looking in indexes: https://pypi.org/simple, https://us-python.pkg.dev/colab-wheels/public/simple/\n",
            "Requirement already satisfied: numpy in /usr/local/lib/python3.8/dist-packages (1.21.6)\n",
            "Looking in indexes: https://pypi.org/simple, https://us-python.pkg.dev/colab-wheels/public/simple/\n",
            "Requirement already satisfied: matplotlib in /usr/local/lib/python3.8/dist-packages (3.2.2)\n",
            "Requirement already satisfied: numpy>=1.11 in /usr/local/lib/python3.8/dist-packages (from matplotlib) (1.21.6)\n",
            "Requirement already satisfied: python-dateutil>=2.1 in /usr/local/lib/python3.8/dist-packages (from matplotlib) (2.8.2)\n",
            "Requirement already satisfied: kiwisolver>=1.0.1 in /usr/local/lib/python3.8/dist-packages (from matplotlib) (1.4.4)\n",
            "Requirement already satisfied: cycler>=0.10 in /usr/local/lib/python3.8/dist-packages (from matplotlib) (0.11.0)\n",
            "Requirement already satisfied: pyparsing!=2.0.4,!=2.1.2,!=2.1.6,>=2.0.1 in /usr/local/lib/python3.8/dist-packages (from matplotlib) (3.0.9)\n",
            "Requirement already satisfied: six>=1.5 in /usr/local/lib/python3.8/dist-packages (from python-dateutil>=2.1->matplotlib) (1.15.0)\n",
            "Looking in indexes: https://pypi.org/simple, https://us-python.pkg.dev/colab-wheels/public/simple/\n",
            "Requirement already satisfied: scipy in /usr/local/lib/python3.8/dist-packages (1.7.3)\n",
            "Requirement already satisfied: numpy<1.23.0,>=1.16.5 in /usr/local/lib/python3.8/dist-packages (from scipy) (1.21.6)\n"
          ]
        }
      ],
      "source": [
        "! pip install numpy\n",
        "! pip install matplotlib\n",
        "! pip install scipy\n",
        "import matplotlib.pyplot as plt\n",
        "import numpy as np\n",
        "import math\n",
        "import random\n",
        "from typing import List\n",
        "import sympy as sy\n",
        "from scipy.stats import norm"
      ]
    },
    {
      "cell_type": "markdown",
      "source": [
        "# Discrete distributions\n",
        "here we define some objects to work easier with discrete distributions and random variables."
      ],
      "metadata": {
        "id": "REw3I87oxZmU"
      }
    },
    {
      "cell_type": "code",
      "source": [
        "class DiscreteDistribution:\n",
        "    def __init__(self, probability_mass_function):\n",
        "        self.pmf = probability_mass_function\n",
        "    def P(self, *args):\n",
        "        return self.pmf(*args)\n"
      ],
      "metadata": {
        "id": "x8ueuYmpxurm"
      },
      "execution_count": null,
      "outputs": []
    },
    {
      "cell_type": "markdown",
      "source": [
        "## Binomial Distribution\n",
        "\n",
        "here we implement binomial distribution using the probability mass function.\n",
        "\n",
        "\n"
      ],
      "metadata": {
        "id": "2tBJ3kJpziVG"
      }
    },
    {
      "cell_type": "markdown",
      "source": [
        "### Definition\n",
        "<img src=\"https://s2.uupload.ir/files/binomial_ljyi.jpg\" border=\"0\" alt=\"\" />\n",
        "\n"
      ],
      "metadata": {
        "id": "4Y8IN-qCHasY"
      }
    },
    {
      "cell_type": "markdown",
      "source": [
        "### Expectation and variance\n",
        "also we know this for Expectation of this distribution:\n",
        "\n",
        "<img src=\"https://s2.uupload.ir/files/image_2023-02-01_113655843_am60.png\" border=\"0\" alt=\"\" />\n",
        "\n",
        "so, we can calculate Var(X) in this way:\n",
        "\n",
        "<img src=\"https://s2.uupload.ir/files/image_2023-02-01_113950685_wqb1.png\" border=\"0\" alt=\"\" />"
      ],
      "metadata": {
        "id": "7rNS1Y9Of22S"
      }
    },
    {
      "cell_type": "markdown",
      "source": [
        "### Implementation\n",
        "here we represent some implementation using n and p, with needed functions."
      ],
      "metadata": {
        "id": "jv6Bmr9gH0Vc"
      }
    },
    {
      "cell_type": "code",
      "source": [
        "class BinomialDistribution(DiscreteDistribution):\n",
        "      def __init__(self,  n: int, p: float):\n",
        "          self.n: int = n\n",
        "          self.p: float = p\n",
        "          super().__init__(lambda x: math.comb(n, x) *\n",
        "                           math.pow(p, x) * math.pow((1 - p), n - x))\n",
        "      def reload(self,  n: int, p: float):\n",
        "          self.__init__(n, p)\n",
        "      \n",
        "    \n",
        "      \n",
        "      def E(self, events: List[int] = None, power: int = 1):\n",
        "          if events:\n",
        "              e: float = 0\n",
        "              for i in range(len(events)):\n",
        "                  e = e + math.pow(i, power) * events[i]\n",
        "              experiments_count = sum(events)\n",
        "              e /= experiments_count\n",
        "              return e\n",
        "\n",
        "          elif power == 1:\n",
        "              return self.n * self.p\n",
        "          elif power == 2:\n",
        "              return math.pow(self.n, 2) * math.pow(self.p, 2)  - self.n * math.pow(self.p, 2) + self.n * self.p\n",
        "          else:\n",
        "              pass\n",
        "              # TODO: fix it for any power\n",
        "     \n",
        "\n",
        "      def Var(self, events: List[int] = None):\n",
        "          if events:\n",
        "              return self.E(events, power = 2) - math.pow(self.E(events), 2)\n",
        "          else:\n",
        "              return self.E(power = 2) - math.pow(self.E(), 2)\n",
        "\n",
        "      def do_experiment(self):\n",
        "          if random.random() <= self.p:\n",
        "              return True\n",
        "          else:\n",
        "              return False\n",
        "      \n",
        "      def do_experiments(self):\n",
        "          win = 0\n",
        "          for j in range(self.n):\n",
        "              win += self.do_experiment()\n",
        "          return win\n",
        "\n",
        "      def create_random_space(self, experiments: int = 1000):\n",
        "          events = [0] * (self.n + 1)\n",
        "          for i in range(experiments):\n",
        "              events[self.do_experiments()] += 1\n",
        "          return events\n",
        "        \n",
        "      def F(self, x: int):\n",
        "          s = 0\n",
        "          for i in range(0, x + 1):\n",
        "              s += self.P(i)\n",
        "          return s\n",
        "\n"
      ],
      "metadata": {
        "id": "Lzi9Zae32Sro"
      },
      "execution_count": null,
      "outputs": []
    },
    {
      "cell_type": "markdown",
      "source": [
        "### Test implementation\n",
        "\n",
        "lets test this distribution on a sample random space:\n",
        "\n",
        "\n"
      ],
      "metadata": {
        "id": "W9WpgVFZCQ70"
      }
    },
    {
      "cell_type": "code",
      "source": [
        "# create distribution\n",
        "n = 20\n",
        "p = 0.3\n",
        "bin = BinomialDistribution(n, p)\n",
        "\n",
        "# create random space\n",
        "experiments = 10000     # count of experiments\n",
        "space = bin.create_random_space(experiments)\n",
        "\n",
        "print(f\"Expected value: {bin.E()}\\tExpected value in random space: {bin.E(space)}\")"
      ],
      "metadata": {
        "colab": {
          "base_uri": "https://localhost:8080/"
        },
        "id": "jdUfVxebCjxu",
        "outputId": "844e518f-0659-47ce-f825-513a82847180"
      },
      "execution_count": null,
      "outputs": [
        {
          "output_type": "stream",
          "name": "stdout",
          "text": [
            "Expected value: 6.0\tExpected value in random space: 6.0248\n"
          ]
        }
      ]
    },
    {
      "cell_type": "markdown",
      "source": [
        "Lets checkout expected value and expected value in random space by increasing samples in our random space:\n",
        "\n"
      ],
      "metadata": {
        "id": "gE-ZrK6qI22G"
      }
    },
    {
      "cell_type": "code",
      "source": [
        "# create distribution\n",
        "n = 20\n",
        "p = 0.3\n",
        "bin = BinomialDistribution(n, p)\n",
        "\n",
        "def draw_discrete_E_graph(dist, experiments: int = 1000):\n",
        "    # create random space\n",
        "    space = dist.create_random_space(5)           # sample space with 5 experiments\n",
        "\n",
        "    E = [dist.E(space)]                           # expected value in random spaces\n",
        "    for _ in range(experiments - 1):\n",
        "        win = dist.do_experiments()\n",
        "        space[win] += 1           # update sample space\n",
        "        E.append(dist.E(space))\n",
        "\n",
        "    # draw plots\n",
        "    plt.xlabel(f'Experiments ({n} tests in each experiment)')\n",
        "    plt.ylabel('E[x]')\n",
        "    plt.plot(range(1, experiments + 1), E,  color='b', label='random experiments')\n",
        "    plt.plot(range(1, experiments + 1), experiments * [dist.E()],  color='r', label='E[X] = np')\n",
        "\n",
        "    plt.show()\n",
        "\n",
        "draw_discrete_E_graph(bin)\n",
        "    "
      ],
      "metadata": {
        "colab": {
          "base_uri": "https://localhost:8080/",
          "height": 283
        },
        "id": "XPdN7LnMJA48",
        "outputId": "69d327ca-6bf0-41c8-d9f2-e0969600229e"
      },
      "execution_count": null,
      "outputs": [
        {
          "output_type": "display_data",
          "data": {
            "text/plain": [
              "<Figure size 432x288 with 1 Axes>"
            ],
            "image/png": "[encoded data removed]"
          },
          "metadata": {
            "needs_background": "light"
          }
        }
      ]
    },
    {
      "cell_type": "markdown",
      "source": [
        "### Graphs\n",
        "here we setup draw graph function to be easier in next sections of notebook.\n",
        "\n"
      ],
      "metadata": {
        "id": "1vnvStf0MYSU"
      }
    },
    {
      "cell_type": "code",
      "source": [
        "# create distribution\n",
        "def draw_p(dist, space = None):\n",
        "    if not space:\n",
        "        space = dist.create_random_space(experiments)\n",
        "    X = range(1, len(space))\n",
        "    PS = []  # probabilities from random space\n",
        "    P  = []  # probability from distribution function\n",
        "\n",
        "\n",
        "    for i in X:\n",
        "        PS.append(space[i]/experiments)\n",
        "        P.append(dist.P(i))\n",
        "\n",
        "\n",
        "    # draw plots\n",
        "    ## mass function\n",
        "    fig, (ax1, ax2) =  plt.subplots(1, 2)\n",
        "    ax1.bar(X, P, color ='b', width = 1,\n",
        "            edgecolor ='grey')\n",
        "    ax1.set_title('P(X = i)')\n",
        "\n",
        "\n",
        "    ax2.bar(X, PS, color ='r', width = 1,\n",
        "            edgecolor ='grey')\n",
        "    ax2.set_title('P(X = i) in random experiments')\n",
        "    return fig, ax1, ax2\n",
        "\n",
        "def draw_f(dist, space = None):\n",
        "    if not space:\n",
        "        space = dist.create_random_space(experiments)\n",
        "    X = range(1, len(space))\n",
        "\n",
        "    FS = [0]  # distribution from random space\n",
        "    F  = [0]  # distribution from distribution function\n",
        "\n",
        "    for i in X:\n",
        "        F.append(dist.F(i))\n",
        "        FS.append(FS[-1] + space[i]/experiments)\n",
        "\n",
        "    F.pop(0)\n",
        "    FS.pop(0)\n",
        "\n",
        "\n",
        "    ## distribution function\n",
        "    fig2, (ax3, ax4) =  plt.subplots(1, 2)\n",
        "    ax3.bar(X, F, color ='b', width = 1,\n",
        "            edgecolor ='grey')\n",
        "    ax3.set_title('F(i)')\n",
        "\n",
        "\n",
        "    ax4.bar(X, FS, color ='r', width = 1,\n",
        "            edgecolor ='grey')\n",
        "    ax4.set_title('F(i) in random experiments')\n",
        "  \n",
        "    return fig2, ax3, ax4\n",
        "\n",
        "\n",
        "def draw_discrete_graph(dist, experiments: int = 10000, space: List[int] = None):\n",
        "    \n",
        "    # create random space if its not available\n",
        "    if not space:\n",
        "        space = dist.create_random_space(experiments)\n",
        "    draw_p(dist, space)\n",
        "    draw_f(dist, space)\n",
        "    plt.show()\n",
        "\n",
        "n = 20\n",
        "p = 0.3\n",
        "bin = BinomialDistribution(n, p)\n",
        "draw_discrete_graph(bin)\n"
      ],
      "metadata": {
        "colab": {
          "base_uri": "https://localhost:8080/",
          "height": 545
        },
        "id": "3NBxB1MWL81C",
        "outputId": "14ce6c9f-d3a3-4735-dd68-729f83315e15"
      },
      "execution_count": null,
      "outputs": [
        {
          "output_type": "display_data",
          "data": {
            "text/plain": [
              "<Figure size 432x288 with 2 Axes>"
            ],
            "image/png": "[encoded data removed]"
          },
          "metadata": {
            "needs_background": "light"
          }
        },
        {
          "output_type": "display_data",
          "data": {
            "text/plain": [
              "<Figure size 432x288 with 2 Axes>"
            ],
            "image/png": "[encoded data removed]"
          },
          "metadata": {
            "needs_background": "light"
          }
        }
      ]
    },
    {
      "cell_type": "markdown",
      "source": [
        "## Poisson Distribution"
      ],
      "metadata": {
        "id": "QNxmq7MUbvOf"
      }
    },
    {
      "cell_type": "markdown",
      "source": [
        "### Definition\n",
        "we define poisson approximation from binomial distribution using following method:\n",
        "<img src=\"https://s2.uupload.ir/files/image_2023-02-01_133825186_xk2u.png\" border=\"0\" alt=\"\" />\n",
        "\n",
        "we know that F(inf) should be 1 and P(X = i) >= 0. if we do not violate this constraints, we can define our distribution. Second constraint does not viloated (It is obvious!) .\n",
        "\n",
        "so:\n",
        "\n",
        "<img src=\"https://s2.uupload.ir/files/image_2023-02-01_134256446_9jql.png\" border=\"0\" alt=\"\" />\n",
        "\n",
        "know we can define our probability mass function and our distribution:\n",
        "\n",
        "<img src=\"https://s2.uupload.ir/files/image_2023-02-01_134459384_vn7o.png\" border=\"0\" alt=\"\" />"
      ],
      "metadata": {
        "id": "smrIitmncVqw"
      }
    },
    {
      "cell_type": "markdown",
      "source": [
        "### Expectation and variance\n",
        "<img src=\"https://s2.uupload.ir/files/image_2023-02-01_135425727_0qr9.png\" border=\"0\" alt=\"\" />"
      ],
      "metadata": {
        "id": "zNZLGy46gGKS"
      }
    },
    {
      "cell_type": "markdown",
      "source": [
        "### Implementation\n",
        "here we represent some implementation using lambda, with needed functions."
      ],
      "metadata": {
        "id": "7vXB0bvye3kx"
      }
    },
    {
      "cell_type": "code",
      "source": [
        "class PoissonDistribution(DiscreteDistribution):\n",
        "      def __init__(self,  landa: float):\n",
        "          self.landa: float = landa\n",
        "          super().__init__(lambda x: math.exp(- self.landa) *\n",
        "                           math.pow(landa, x) / math.factorial(x))\n",
        "      def reload(self, landa: float):\n",
        "          self.__init__(landa)\n",
        "      \n",
        "    \n",
        "      \n",
        "      def E(self, events: List[int] = None, power: int = 1):\n",
        "          if events:\n",
        "              e: float = 0\n",
        "              for i in range(len(events)):\n",
        "                  e = e + math.pow(i, power) * events[i]\n",
        "              experiments_count = sum(events)\n",
        "              e /= experiments_count\n",
        "              return e\n",
        "\n",
        "          elif power == 1:\n",
        "              return self.landa\n",
        "          elif power == 2:\n",
        "              return math.pow(self.landa, 2) + self.landa\n",
        "          else:\n",
        "              pass\n",
        "              # TODO: fix it for any power\n",
        "     \n",
        "\n",
        "      def Var(self, events: List[int] = None):\n",
        "          if events:\n",
        "              return self.E(events, power = 2) - math.pow(self.E(events), 2)\n",
        "          else:\n",
        "              return self.E(power = 2) - math.pow(self.E(), 2)\n",
        "        \n",
        "      def F(self, x: int):\n",
        "          s = 0\n",
        "          for i in range(0, x + 1):\n",
        "              s += self.P(i)\n",
        "          return s\n"
      ],
      "metadata": {
        "id": "0J4SK1ZTe2nO"
      },
      "execution_count": null,
      "outputs": []
    },
    {
      "cell_type": "markdown",
      "source": [
        "### Test implementation\n",
        "\n",
        "lets test this distribution on a sample random space.\n",
        "we set lambda equal to np and use Binomial distribution to build sample random space."
      ],
      "metadata": {
        "id": "JEFJ5XaKiAn3"
      }
    },
    {
      "cell_type": "code",
      "source": [
        "# create distribution\n",
        "p = 0.3\n",
        "n = 20\n",
        "bin = BinomialDistribution(n, p)\n",
        "landa = 0.3 * 20 \n",
        "pos = PoissonDistribution(landa)\n",
        "\n",
        "# create random space\n",
        "experiments = 10000     # count of experiments\n",
        "space = bin.create_random_space(experiments)\n",
        "\n",
        "print(f\"Expected value using Poisson: {pos.E()}\\tExpected value in random space: {pos.E(space)} \\t\")"
      ],
      "metadata": {
        "colab": {
          "base_uri": "https://localhost:8080/"
        },
        "id": "HJGXobtliAxU",
        "outputId": "0b1116e1-9b5a-4185-9761-d3eda7f46f55"
      },
      "execution_count": null,
      "outputs": [
        {
          "output_type": "stream",
          "name": "stdout",
          "text": [
            "Expected value using Poisson: 6.0\tExpected value in random space: 5.9952 \t\n"
          ]
        }
      ]
    },
    {
      "cell_type": "markdown",
      "source": [
        "### Graphs\n"
      ],
      "metadata": {
        "id": "xBnRY6EokKFD"
      }
    },
    {
      "cell_type": "code",
      "source": [
        "n = 20\n",
        "p = 0.3\n",
        "experiments = 1000\n",
        "pos = PoissonDistribution(n * p)\n",
        "bin = BinomialDistribution(n, p)\n",
        "space = bin.create_random_space(experiments)\n",
        "draw_discrete_graph(pos, experiments = experiments, space = space)\n"
      ],
      "metadata": {
        "colab": {
          "base_uri": "https://localhost:8080/",
          "height": 545
        },
        "id": "7b2kpWWykYBi",
        "outputId": "7d95fcc9-448d-465f-8a32-51d6af99460b"
      },
      "execution_count": null,
      "outputs": [
        {
          "output_type": "display_data",
          "data": {
            "text/plain": [
              "<Figure size 432x288 with 2 Axes>"
            ],
            "image/png": "[encoded data removed]"
          },
          "metadata": {
            "needs_background": "light"
          }
        },
        {
          "output_type": "display_data",
          "data": {
            "text/plain": [
              "<Figure size 432x288 with 2 Axes>"
            ],
            "image/png": "[encoded data removed]"
          },
          "metadata": {
            "needs_background": "light"
          }
        }
      ]
    },
    {
      "cell_type": "markdown",
      "source": [
        "### Approximation\n",
        "\n",
        "here we want to checkout our approximation using graph.\n",
        "its well for our intuition about poisson distribution and the relation between poisson and binomial."
      ],
      "metadata": {
        "id": "EmbSqk1Blb_a"
      }
    },
    {
      "cell_type": "code",
      "source": [
        "n = 100\n",
        "p = 1/2\n",
        "experiments = 1000\n",
        "pos = PoissonDistribution(n * p)\n",
        "bin = BinomialDistribution(n, p)\n",
        "\n",
        "fig, ax1, ax2 = draw_p(bin)\n",
        "ax1.plot(range(n), [pos.P(i) for i in range(n)], 'magenta', label='Poisson')\n",
        "ax2.plot(range(n), [pos.P(i) for i in range(n)], 'magenta', label='Poisson')\n",
        "\n",
        "plt.show()"
      ],
      "metadata": {
        "colab": {
          "base_uri": "https://localhost:8080/",
          "height": 281
        },
        "id": "UQyiXOLAl1kp",
        "outputId": "a39f277a-0a11-49b6-aa53-f0ab55fa3801"
      },
      "execution_count": null,
      "outputs": [
        {
          "output_type": "display_data",
          "data": {
            "text/plain": [
              "<Figure size 432x288 with 2 Axes>"
            ],
            "image/png": "[encoded data removed]"
          },
          "metadata": {
            "needs_background": "light"
          }
        }
      ]
    },
    {
      "cell_type": "markdown",
      "source": [
        "## Exponential distribution"
      ],
      "metadata": {
        "id": "IKf4DpS1rLKR"
      }
    },
    {
      "cell_type": "markdown",
      "source": [
        "### Definition\n",
        "\n",
        "<img src=\"https://s2.uupload.ir/files/image_2023-02-05_021300563_d009.png\" border=\"0\" alt=\"\" >"
      ],
      "metadata": {
        "id": "dZ8fN0Lhsv_W"
      }
    },
    {
      "cell_type": "markdown",
      "source": [
        "### Expectation and variance\n",
        "\n",
        "<img src=\"https://s2.uupload.ir/files/image_2023-02-05_021346385_knhu.png\" border=\"0\" alt=\"\" >"
      ],
      "metadata": {
        "id": "cWGLcKlBtoC5"
      }
    },
    {
      "cell_type": "markdown",
      "source": [
        "### Implementation\n",
        "\n",
        "here we represent some implementation using p, with needed functions."
      ],
      "metadata": {
        "id": "6NiZMZLIuG6M"
      }
    },
    {
      "cell_type": "code",
      "source": [
        "class ExponentialDistribution(DiscreteDistribution):\n",
        "      def __init__(self, p: float):\n",
        "          self.p: float = p\n",
        "          super().__init__(lambda x: math.pow((1 - p), x - 1) * p)\n",
        "      def reload(self, p: float):\n",
        "          self.__init__(p)\n",
        "       \n",
        "      def E(self, events: List[int] = None, power: int = 1):\n",
        "          if events:\n",
        "              e: float = 0\n",
        "              for i in range(len(events)):\n",
        "                  e = e + math.pow(i, power) * events[i]\n",
        "              experiments_count = sum(events)\n",
        "              e /= experiments_count\n",
        "              return e\n",
        "\n",
        "          elif power == 1:\n",
        "              return 1 / self.p\n",
        "          elif power == 2:\n",
        "              return (2 - p) / math.pow(p, 2)\n",
        "          else:\n",
        "              pass\n",
        "              # TODO: fix it for any power\n",
        "     \n",
        "\n",
        "      def Var(self, events: List[int] = None):\n",
        "          if events:\n",
        "              return self.E(events, power = 2) - math.pow(self.E(events), 2)\n",
        "          else:\n",
        "              return self.E(power = 2) - math.pow(self.E(), 2)\n",
        "\n",
        "      def do_experiment(self):\n",
        "          if random.random() <= self.p:\n",
        "              return True\n",
        "          else:\n",
        "              return False\n",
        "      \n",
        "      def do_experiments(self, tries: int):\n",
        "          win = 1\n",
        "          for j in range(tries):\n",
        "              if self.do_experiment():\n",
        "                break\n",
        "              win += 1\n",
        "          return win\n",
        "\n",
        "      def create_random_space(self, experiments: int = 1000, tries: int = 1000):\n",
        "          events = [0] * (tries + 1)\n",
        "          for i in range(experiments):\n",
        "              events[self.do_experiments(tries)] += 1\n",
        "          return events\n",
        "        \n",
        "      def F(self, x: int):\n",
        "          s = 0\n",
        "          for i in range(0, x + 1):\n",
        "              s += self.P(i)\n",
        "          return s\n",
        "\n"
      ],
      "metadata": {
        "id": "Rq7juqBTuV-v"
      },
      "execution_count": null,
      "outputs": []
    },
    {
      "cell_type": "markdown",
      "source": [
        "### Test implementation\n",
        "\n",
        "lets test this distribution on a sample random space."
      ],
      "metadata": {
        "id": "WvIj9gCfwSeB"
      }
    },
    {
      "cell_type": "code",
      "source": [
        "# create distribution\n",
        "p = 0.5\n",
        "exp = ExponentialDistribution(p)\n",
        "\n",
        "# create random space\n",
        "experiments = 1000    # count of experiments\n",
        "tries = 1000            # try per experiment\n",
        "space = exp.create_random_space(experiments, tries)\n",
        "print(f\"Expected value: {exp.E()}\\tExpected value in random space: {exp.E(space)}\")"
      ],
      "metadata": {
        "colab": {
          "base_uri": "https://localhost:8080/"
        },
        "id": "72uwsJgpwiE7",
        "outputId": "342088bd-0e94-4556-c261-a21b25246890"
      },
      "execution_count": null,
      "outputs": [
        {
          "output_type": "stream",
          "name": "stdout",
          "text": [
            "Expected value: 2.0\tExpected value in random space: 1.956\n"
          ]
        }
      ]
    },
    {
      "cell_type": "markdown",
      "source": [
        "### Graphs"
      ],
      "metadata": {
        "id": "YoNhrDq521ZT"
      }
    },
    {
      "cell_type": "code",
      "source": [
        "p = 0.01\n",
        "experiments = 100\n",
        "exp = ExponentialDistribution(p)\n",
        "space = exp.create_random_space(experiments)\n",
        "draw_discrete_graph(exp, experiments = experiments, space = space)\n"
      ],
      "metadata": {
        "colab": {
          "base_uri": "https://localhost:8080/",
          "height": 545
        },
        "id": "orLqiZrc24eL",
        "outputId": "eceaffb2-9188-48f7-ac20-fe4dab04206f"
      },
      "execution_count": null,
      "outputs": [
        {
          "output_type": "display_data",
          "data": {
            "text/plain": [
              "<Figure size 432x288 with 2 Axes>"
            ],
            "image/png": "[encoded data removed]"
          },
          "metadata": {
            "needs_background": "light"
          }
        },
        {
          "output_type": "display_data",
          "data": {
            "text/plain": [
              "<Figure size 432x288 with 2 Axes>"
            ],
            "image/png": "[encoded data removed]"
          },
          "metadata": {
            "needs_background": "light"
          }
        }
      ]
    },
    {
      "cell_type": "markdown",
      "source": [
        "## Negative binomial distribution"
      ],
      "metadata": {
        "id": "_2haE3xi64ZG"
      }
    },
    {
      "cell_type": "markdown",
      "source": [
        "### Definition\n",
        "<img src=\"https://s2.uupload.ir/files/image_2023-02-05_021439319_hkpu.png\" border=\"0\" alt=\"\" >"
      ],
      "metadata": {
        "id": "ffoj-f8e6-T5"
      }
    },
    {
      "cell_type": "markdown",
      "source": [
        "### Expectation and variance\n",
        "\n",
        "Note that a negative binomial probability mass function with parameters (1, p) is geometric.\n",
        "\n",
        "<img src=\"https://s2.uupload.ir/files/image_2023-02-05_021511245_rpjd.png\" border=\"0\" alt=\"\" >"
      ],
      "metadata": {
        "id": "KcPi9TqbXT7J"
      }
    },
    {
      "cell_type": "markdown",
      "source": [
        "### Implementation\n",
        "\n",
        "here we represent some implementation using p and r, with needed functions."
      ],
      "metadata": {
        "id": "SGY7dq3dYQ_J"
      }
    },
    {
      "cell_type": "code",
      "source": [
        "class NegativeBinomialDistribution(DiscreteDistribution):\n",
        "      def __init__(self,  r: int, p: float):\n",
        "          self.r: int = r\n",
        "          self.p: float = p\n",
        "          super().__init__(lambda x: math.comb(x - 1, r - 1) *\n",
        "                           math.pow(p, r) * math.pow((1 - p), x - r))\n",
        "      def reload(self,  r: int, p: float):\n",
        "          self.__init__(r, p)\n",
        "      \n",
        "    \n",
        "      \n",
        "      def E(self, events: List[int] = None, power: int = 1):\n",
        "          if events:\n",
        "              e: float = 0\n",
        "              for i in range(len(events)):\n",
        "                  e = e + math.pow(i, power) * events[i]\n",
        "              experiments_count = sum(events)\n",
        "              e /= experiments_count\n",
        "              return e\n",
        "\n",
        "          elif power == 1:\n",
        "              return self.r / self.p\n",
        "          elif power == 2:\n",
        "              return (self.r - self.r * self.p + math.pow(self.r, 2)) / math.pow(self.p, 2) \n",
        "          else:\n",
        "              pass\n",
        "              # TODO: fix it for any power\n",
        "     \n",
        "\n",
        "      def Var(self, events: List[int] = None):\n",
        "          if events:\n",
        "              return self.E(events, power = 2) - math.pow(self.E(events), 2)\n",
        "          else:\n",
        "              return self.E(power = 2) - math.pow(self.E(), 2)\n",
        "\n",
        "      def do_experiment(self):\n",
        "          if random.random() <= self.p:\n",
        "              return True\n",
        "          else:\n",
        "              return False\n",
        "      \n",
        "      def do_experiments(self, tries: int):\n",
        "          win = 0\n",
        "          last = -1\n",
        "          for j in range(self.r + tries):\n",
        "              win += self.do_experiment()\n",
        "              if win == self.r:\n",
        "                  last = j\n",
        "                  break\n",
        "          return last\n",
        "\n",
        "      def create_random_space(self, experiments: int = 1000, tries: int = 1000):\n",
        "          events = [0] * (self.r + tries + 1)\n",
        "          for i in range(experiments):\n",
        "              result = self.do_experiments(tries)\n",
        "              if result != -1: \n",
        "                  events[result] += 1\n",
        "          return events\n",
        "        \n",
        "      def F(self, x: int):\n",
        "          s = 0\n",
        "          for i in range(self.r, x + 1):\n",
        "              s += self.P(i)\n",
        "          return s\n",
        "\n"
      ],
      "metadata": {
        "id": "0VFyV2GpQf0c"
      },
      "execution_count": null,
      "outputs": []
    },
    {
      "cell_type": "markdown",
      "source": [
        "### Test implementation\n",
        "\n",
        "lets test this distribution on a sample random space."
      ],
      "metadata": {
        "id": "279gSJ1f16MN"
      }
    },
    {
      "cell_type": "code",
      "source": [
        "# create distribution\n",
        "r = 20\n",
        "p = 0.3\n",
        "nbin = NegativeBinomialDistribution(r, p)\n",
        "\n",
        "# create random space\n",
        "experiments = 10000     # count of experiments\n",
        "tries = 1000            # count of tries after r in each experiment\n",
        "space = nbin.create_random_space(experiments)\n",
        "\n",
        "print(f\"Expected value: {nbin.E()}\\tExpected value in random space: {nbin.E(space)}\")"
      ],
      "metadata": {
        "colab": {
          "base_uri": "https://localhost:8080/"
        },
        "id": "sHLiiwQT2XA_",
        "outputId": "50bebd90-205d-45ee-a605-91cf32feb839"
      },
      "execution_count": null,
      "outputs": [
        {
          "output_type": "stream",
          "name": "stdout",
          "text": [
            "Expected value: 66.66666666666667\tExpected value in random space: 65.5254\n"
          ]
        }
      ]
    },
    {
      "cell_type": "markdown",
      "source": [
        "### Graphs"
      ],
      "metadata": {
        "id": "4V6FkM522vIt"
      }
    },
    {
      "cell_type": "code",
      "source": [
        "# create distribution\n",
        "r = 20\n",
        "p = 0.3\n",
        "nbin = NegativeBinomialDistribution(r, p)\n",
        "\n",
        "# create random space\n",
        "experiments = 1000     # count of experiments\n",
        "tries = 30            # count of tries after r in each experiment\n",
        "space = nbin.create_random_space(experiments, tries)\n",
        "draw_discrete_graph(nbin, space = space)\n"
      ],
      "metadata": {
        "colab": {
          "base_uri": "https://localhost:8080/",
          "height": 545
        },
        "id": "7hPIvpUg25Sy",
        "outputId": "70bdb0a4-7608-482e-9d54-b7dc18f74cc4"
      },
      "execution_count": null,
      "outputs": [
        {
          "output_type": "display_data",
          "data": {
            "text/plain": [
              "<Figure size 432x288 with 2 Axes>"
            ],
            "image/png": "[encoded data removed]"
          },
          "metadata": {
            "needs_background": "light"
          }
        },
        {
          "output_type": "display_data",
          "data": {
            "text/plain": [
              "<Figure size 432x288 with 2 Axes>"
            ],
            "image/png": "[encoded data removed]"
          },
          "metadata": {
            "needs_background": "light"
          }
        }
      ]
    },
    {
      "cell_type": "markdown",
      "source": [
        "## Hypergeometric distribution"
      ],
      "metadata": {
        "id": "fJ8TRNy09l_8"
      }
    },
    {
      "cell_type": "markdown",
      "source": [
        "### Definition\n",
        "\n",
        "<img src=\"https://s2.uupload.ir/files/image_2023-02-04_183543116_bsja.png\" border=\"0\" alt=\"\" >"
      ],
      "metadata": {
        "id": "C7LiYlq59qJp"
      }
    },
    {
      "cell_type": "markdown",
      "source": [
        "### Expectation and Variance\n",
        "\n",
        "<img src=\"https://s2.uupload.ir/files/image_2023-02-04_183824758_c02v.png\" border=\"0\" alt=\"\" />"
      ],
      "metadata": {
        "id": "2lzE4QCB99Sx"
      }
    },
    {
      "cell_type": "markdown",
      "source": [
        "### Implementation\n",
        "\n",
        "here we represent some implementation using n, D, and N, with needed functions."
      ],
      "metadata": {
        "id": "VG0R7OE_BfWK"
      }
    },
    {
      "cell_type": "code",
      "source": [
        "class HypergeometricDistribution(DiscreteDistribution):\n",
        "      def __init__(self,  n: int, N: int, D: int):\n",
        "          self.n: int = n\n",
        "          self.N: int = N\n",
        "          self.D: int = D\n",
        "          super().__init__(lambda x: math.comb(D, x) * math.comb(N - D, n - x) / math.comb(N, n))\n",
        "      def reload(self,  n: int, N: int, D: int):\n",
        "          self.__init__(n, N, D)\n",
        "      \n",
        "    \n",
        "      \n",
        "      def E(self, events: List[int] = None, power: int = 1):\n",
        "          if events:\n",
        "              e: float = 0\n",
        "              for i in range(len(events)):\n",
        "                  e = e + math.pow(i, power) * events[i]\n",
        "              experiments_count = sum(events)\n",
        "              e /= experiments_count\n",
        "              return e\n",
        "\n",
        "          elif power == 1:\n",
        "              return self.n * self.D / self.N\n",
        "          elif power == 2:\n",
        "              return (self.n * self.D * (self.N - self.D) + math.pow(self.n * self.D), 2) / math.pow(self.N, 2) \n",
        "          else:\n",
        "              pass\n",
        "              # TODO: fix it for any power\n",
        "     \n",
        "\n",
        "      def Var(self, events: List[int] = None):\n",
        "          if events:\n",
        "              return self.E(events, power = 2) - math.pow(self.E(events), 2)\n",
        "          else:\n",
        "              return self.E(power = 2) - math.pow(self.E(), 2)\n",
        "\n",
        "      def do_experiment(self):\n",
        "          if random.random() <= self.D / self.N:\n",
        "              return True\n",
        "          else:\n",
        "              return False\n",
        "      \n",
        "      def do_experiments(self):\n",
        "          win = 0\n",
        "          for j in range(self.n):\n",
        "              win += self.do_experiment()\n",
        "              \n",
        "          return win\n",
        "\n",
        "      def create_random_space(self, experiments: int = 1000):\n",
        "          events = [0] * (self.n + 1)\n",
        "          for i in range(experiments):\n",
        "              result = self.do_experiments()\n",
        "              events[result] += 1\n",
        "          return events\n",
        "        \n",
        "      def F(self, x: int):\n",
        "          s = 0\n",
        "          for i in range(x + 1):\n",
        "              s += self.P(i)\n",
        "          return s\n",
        "\n"
      ],
      "metadata": {
        "id": "CMtyZf-uB3_s"
      },
      "execution_count": null,
      "outputs": []
    },
    {
      "cell_type": "markdown",
      "source": [
        "### Test implementation\n",
        "lets test this distribution on a sample random "
      ],
      "metadata": {
        "id": "3vn8f4gZINVc"
      }
    },
    {
      "cell_type": "code",
      "source": [
        "# create distribution\n",
        "N = 30\n",
        "D = 10\n",
        "n = 15\n",
        "hgeo = HypergeometricDistribution(n, N, D)\n",
        "\n",
        "# create random space\n",
        "experiments = 10000     # count of experiments\n",
        "space = nbin.create_random_space(experiments)\n",
        "\n",
        "print(f\"Expected value: {nbin.E()}\\tExpected value in random space: {nbin.E(space)}\")"
      ],
      "metadata": {
        "colab": {
          "base_uri": "https://localhost:8080/"
        },
        "id": "yxHDYTMkIpsm",
        "outputId": "7b0ab5d3-f549-451f-b1b0-6229a418abe0"
      },
      "execution_count": null,
      "outputs": [
        {
          "output_type": "stream",
          "name": "stdout",
          "text": [
            "Expected value: 66.66666666666667\tExpected value in random space: 65.8167\n"
          ]
        }
      ]
    },
    {
      "cell_type": "markdown",
      "source": [
        "### Graphs"
      ],
      "metadata": {
        "id": "7ksScHR3JYsJ"
      }
    },
    {
      "cell_type": "code",
      "source": [
        "# create distribution\n",
        "N = 40\n",
        "D = 10\n",
        "n = 15\n",
        "hgeo = HypergeometricDistribution(n, N, D)\n",
        "\n",
        "# create random space\n",
        "experiments = 10000     # count of experiments\n",
        "space = hgeo.create_random_space(experiments)\n",
        "draw_discrete_graph(hgeo, space = space)\n"
      ],
      "metadata": {
        "colab": {
          "base_uri": "https://localhost:8080/",
          "height": 545
        },
        "id": "vcNkxornJbb6",
        "outputId": "eb74353c-1c92-46af-f4f3-56f0aeb74919"
      },
      "execution_count": null,
      "outputs": [
        {
          "output_type": "display_data",
          "data": {
            "text/plain": [
              "<Figure size 432x288 with 2 Axes>"
            ],
            "image/png": "[encoded data removed]"
          },
          "metadata": {
            "needs_background": "light"
          }
        },
        {
          "output_type": "display_data",
          "data": {
            "text/plain": [
              "<Figure size 432x288 with 2 Axes>"
            ],
            "image/png": "[encoded data removed]"
          },
          "metadata": {
            "needs_background": "light"
          }
        }
      ]
    },
    {
      "cell_type": "markdown",
      "source": [
        "# Continuous distributions\n",
        "We define probability density function and probability function P(X = x) in distribution like below:\n",
        "\n",
        "<img src=\"https://s2.uupload.ir/files/image_2023-02-04_200916828_vhxe.png\" border=\"0\" alt=\"\" />\n",
        "\n",
        "here we define some objects to work easier with continuous distributions and random variables."
      ],
      "metadata": {
        "id": "q4ezsqdMMHtq"
      }
    },
    {
      "cell_type": "code",
      "source": [
        "class ContinuousDistribution:\n",
        "    def __init__(self, pdf = None, F = None):\n",
        "        self.pdf = pdf\n",
        "        self.F = F\n",
        "    def P(self, a: float, b: float = None):\n",
        "        if b == None: return 0 \n",
        "        if self.F:\n",
        "           return self.F(b) - self.F(a)\n",
        "        elif self.pdf:\n",
        "            x = sy.Symbol(\"x\")\n",
        "            # TODO: fix integrate for Piece wise linear functions (PLF)\n",
        "            return sy.integrate(self.pdf, (x, a, b))\n",
        "    def F(self, x: float):\n",
        "        if self.F:\n",
        "           return self.F(x)\n",
        "        elif self.pdf:\n",
        "            x = sy.Symbol(\"x\")\n",
        "            inf = 10e9  # TODO: fix infinity\n",
        "            # TODO: fix integrate for Piece wise linear functions (PLF)\n",
        "            return sy.integrate(self.pdf, (x, -inf, b))\n",
        "    \n",
        "    "
      ],
      "metadata": {
        "id": "togQnSktMpZU"
      },
      "execution_count": null,
      "outputs": []
    },
    {
      "cell_type": "markdown",
      "source": [
        "## Uniform distribution\n"
      ],
      "metadata": {
        "id": "uf03g7wtVorT"
      }
    },
    {
      "cell_type": "markdown",
      "source": [
        "### Definition\n",
        "\n",
        "<img src=\"https://s2.uupload.ir/files/image_2023-02-04_202420423_mosu.png\" border=\"0\" alt=\"\" >"
      ],
      "metadata": {
        "id": "0A7Yh3lfXonX"
      }
    },
    {
      "cell_type": "markdown",
      "source": [
        "### Expectation and variance\n",
        "\n",
        "<img src=\"https://s2.uupload.ir/files/image_2023-02-04_203057820_25o2.png\" border=\"0\" alt=\"\" />"
      ],
      "metadata": {
        "id": "BNNtNqAZXu-_"
      }
    },
    {
      "cell_type": "markdown",
      "source": [
        "### Implementation\n",
        "\n",
        "here we represent some implementation using a and b, with needed functions."
      ],
      "metadata": {
        "id": "ElcabtDAZApY"
      }
    },
    {
      "cell_type": "code",
      "source": [
        "class UniformDistribution(ContinuousDistribution):\n",
        "    def __init__(self, a: float, b: float):\n",
        "        self.a: float = a\n",
        "        self.b: float = b\n",
        "        pdf = lambda x: (x >= self.a and x <= self.b) / (self.b - self.a)\n",
        "        F = lambda x: (x > self.a) * min(1 / (self.b - self.a) * (x - self.a), 1)\n",
        "        super().__init__(pdf, F)\n",
        "    def E(self, events: List[int] = None, power: int = 1):\n",
        "        if events:\n",
        "            partitions = len(events)\n",
        "            e = 0\n",
        "            for i in range(partitions):\n",
        "                e += (a + ((2 * i + 1))/2 * (b - a) / partitions) * events[i]\n",
        "            count_events = sum(events)\n",
        "            e /= count_events\n",
        "            print(e)\n",
        "            return e\n",
        "\n",
        "\n",
        "\n",
        "        elif power == 1:\n",
        "            return (self.a + self.b) / 2\n",
        "        elif power == 2:\n",
        "            return (math.pow(a, 2) + math.pow(b, 2) + a * b) / 3\n",
        "        else:\n",
        "            pass\n",
        "            # TODO: fix it for any power\n",
        "  \n",
        "\n",
        "    def Var(self, events: List[int] = None):\n",
        "        if events:\n",
        "            return self.E(events, power = 2) - math.pow(self.E(events), 2)\n",
        "        else:\n",
        "            return self.E(power = 2) - math.pow(self.E(), 2)\n",
        "\n",
        "    def do_experiment(self):\n",
        "        return random.uniform(a, b)\n",
        "    \n",
        "    def create_random_space(self, experiments: int = 1000, partitions: int = 10):\n",
        "        events = [0] * (partitions)\n",
        "        p_length = (self.b - self.a) / partitions\n",
        "        for i in range(experiments):\n",
        "            result = self.do_experiment()\n",
        "            for index in range(partitions):\n",
        "                if result > a + index * p_length and result < a + (index + 1) * p_length:\n",
        "                    break\n",
        "            events[index] += 1\n",
        "        return events\n",
        "          \n",
        "        \n"
      ],
      "metadata": {
        "id": "3_GSAfMNZQSM"
      },
      "execution_count": null,
      "outputs": []
    },
    {
      "cell_type": "markdown",
      "source": [
        "### Test implementation\n",
        "\n",
        "lets test this distribution on a sample random space.\n",
        "\n",
        "we create our random space by dividing continuous domain into partitions. the mean of each partition, is going to represent it."
      ],
      "metadata": {
        "id": "OMPJwRw9Eebl"
      }
    },
    {
      "cell_type": "code",
      "source": [
        "# create distribution\n",
        "a = 0\n",
        "b = 1000\n",
        "uni = UniformDistribution(a, b)\n",
        "\n",
        "# create random space\n",
        "experiments = 500     # count of experiments\n",
        "partitions = 20       # partition our continuous domain\n",
        "space = uni.create_random_space(experiments, partitions)\n",
        "print(f\"Expected value: {uni.E()}\\tExpected value in random space: {uni.E(space)}\")"
      ],
      "metadata": {
        "colab": {
          "base_uri": "https://localhost:8080/"
        },
        "id": "u18YszCoE3yx",
        "outputId": "7f94b7a5-57fb-482a-9662-b3b1a5bce0af"
      },
      "execution_count": null,
      "outputs": [
        {
          "output_type": "stream",
          "name": "stdout",
          "text": [
            "489.4\n",
            "Expected value: 500.0\tExpected value in random space: 489.4\n"
          ]
        }
      ]
    },
    {
      "cell_type": "markdown",
      "source": [
        "### Discrete Distributions\n",
        "\n",
        "our method to generate random space can be used for discrete domains.\n",
        "\n",
        "if we plot our graph for a discrete domain we can see this:"
      ],
      "metadata": {
        "id": "2zKgNiaMLSQL"
      }
    },
    {
      "cell_type": "code",
      "source": [
        "# create distribution\n",
        "a = 0\n",
        "b = 1000\n",
        "uni = UniformDistribution(a, b)\n",
        "\n",
        "# create random space\n",
        "experiments = 5000     # count of experiments\n",
        "partitions = 20       # partition our continuous domain\n",
        "space = uni.create_random_space(experiments, partitions)\n",
        "draw_discrete_graph(uni, space = space)"
      ],
      "metadata": {
        "colab": {
          "base_uri": "https://localhost:8080/",
          "height": 545
        },
        "id": "yUQ21mYbLrEj",
        "outputId": "e53cde4f-872e-4619-a706-717d47ecad8b"
      },
      "execution_count": null,
      "outputs": [
        {
          "output_type": "display_data",
          "data": {
            "text/plain": [
              "<Figure size 432x288 with 2 Axes>"
            ],
            "image/png": "[encoded data removed]"
          },
          "metadata": {
            "needs_background": "light"
          }
        },
        {
          "output_type": "display_data",
          "data": {
            "text/plain": [
              "<Figure size 432x288 with 2 Axes>"
            ],
            "image/png": "[encoded data removed]"
          },
          "metadata": {
            "needs_background": "light"
          }
        }
      ]
    },
    {
      "cell_type": "markdown",
      "source": [
        "### Graphs"
      ],
      "metadata": {
        "id": "LLkSFYM1Kam8"
      }
    },
    {
      "cell_type": "code",
      "source": [
        "def draw_continuous_p(dist, ax, start = -1000, stop = 1000, steps = 2000, color = 'b'):\n",
        "    X = np.linspace(start, stop, steps)\n",
        "    Y = []\n",
        "    for i in range(len(X)):\n",
        "        Y.append(dist.pdf(X[i]))\n",
        "    ax.plot(X, Y, color = color)\n",
        "\n",
        "def draw_continuous_F(dist, ax, start = -1000, stop = 1000, steps = 2000):\n",
        "    X = np.linspace(start, stop, steps)\n",
        "    Y = []\n",
        "    for i in range(len(X)):\n",
        "        Y.append(dist.F(X[i]))\n",
        "    ax.plot(X, Y)\n",
        "\n",
        "def draw_continuous_graph(dist, start = -1000, stop = 1000, steps = 2000):\n",
        "    \n",
        "    fig, (ax1, ax2) =  plt.subplots(1, 2)\n",
        "    draw_continuous_p(dist, ax1, start, stop, steps)\n",
        "    ax1.set_title('f(X = i)')\n",
        "    draw_continuous_F(dist, ax2, start, stop, steps)\n",
        "    ax2.set_title('F(i)')\n",
        "\n",
        "    plt.show()\n",
        "\n",
        "# create distribution\n",
        "a = 0\n",
        "b = 1000\n",
        "uni = UniformDistribution(a, b)\n",
        "\n",
        "draw_continuous_graph(uni, start = -1000, stop = 2000, steps = 2000)\n",
        "\n"
      ],
      "metadata": {
        "colab": {
          "base_uri": "https://localhost:8080/",
          "height": 281
        },
        "id": "iEbZNNDzKdnC",
        "outputId": "46f3d422-86d2-442b-f3af-052eee7252eb"
      },
      "execution_count": null,
      "outputs": [
        {
          "output_type": "display_data",
          "data": {
            "text/plain": [
              "<Figure size 432x288 with 2 Axes>"
            ],
            "image/png": "[encoded data removed]"
          },
          "metadata": {
            "needs_background": "light"
          }
        }
      ]
    },
    {
      "cell_type": "markdown",
      "source": [
        "## Normal Distribution"
      ],
      "metadata": {
        "id": "9VrKrtXYRlXq"
      }
    },
    {
      "cell_type": "markdown",
      "source": [
        "### Normal variable\n",
        "\n"
      ],
      "metadata": {
        "id": "D5qTo1VMRrGL"
      }
    },
    {
      "cell_type": "markdown",
      "source": [
        "#### Definition\n",
        "<img src=\"https://s2.uupload.ir/files/image_2023-02-05_004552458_94k5.png\" border=\"0\" alt=\"\" >\n",
        "<img src=\"https://s2.uupload.ir/files/image_2023-02-05_004636302_w3dv.png\" border=\"0\" alt=\"\" />"
      ],
      "metadata": {
        "id": "Zp-nZNQoWUYo"
      }
    },
    {
      "cell_type": "markdown",
      "source": [
        "#### Expectation and variance\n",
        "\n",
        "<img src=\"https://s2.uupload.ir/files/image_2023-02-05_010053319_1mmv.png\" border=\"0\" alt=\"آ\" />\n",
        "<img src=\"https://s2.uupload.ir/files/image_2023-02-05_010150432_10qk.png\" border=\"0\" alt=\"\" />"
      ],
      "metadata": {
        "id": "-B31Lr09VRul"
      }
    },
    {
      "cell_type": "markdown",
      "source": [
        "### Definition\n",
        "<img src=\"https://s2.uupload.ir/files/image_2023-02-05_010430201_rn8y.png\" border=\"0\" alt=\"\" />"
      ],
      "metadata": {
        "id": "V-IL1EysWakX"
      }
    },
    {
      "cell_type": "markdown",
      "source": [
        "### Expectation and variance\n",
        "<img src=\"https://s2.uupload.ir/files/image_2023-02-05_010729487_ova4.png\" border=\"0\" alt=\"\" />"
      ],
      "metadata": {
        "id": "2zJmPJy2XJtd"
      }
    },
    {
      "cell_type": "markdown",
      "source": [
        "### Implementation\n",
        "\n",
        "here we represent some implementation using mu and sigma, with needed functions."
      ],
      "metadata": {
        "id": "eKwzCR5uWGHP"
      }
    },
    {
      "cell_type": "code",
      "source": [
        "class NormalDistribution(ContinuousDistribution):\n",
        "    def __init__(self, mu: float, sigma: float):\n",
        "        self.mu: float = mu\n",
        "        self.sigma: float = sigma\n",
        "        pdf = lambda x: 1 / (self.sigma * math.sqrt(2 * math.pi)) * math.exp(- math.pow(x - mu, 2) / (2 * math.pow(sigma, 2))) \n",
        "        F = lambda x: norm.cdf(x)  # should be fix\n",
        "        super().__init__(pdf, F)\n",
        "    def E(self, events: List[int] = None, power: int = 1):\n",
        "        if events:\n",
        "            pass\n",
        "\n",
        "\n",
        "\n",
        "        elif power == 1:\n",
        "            return self.mu\n",
        "        elif power == 2:\n",
        "            return math.pow(self.sigma, 2) + math.pow(self.mu, 2)\n",
        "        else:\n",
        "            pass\n",
        "            # TODO: fix it for any power\n",
        "  \n",
        "\n",
        "    def Var(self, events: List[int] = None):\n",
        "        if events:\n",
        "            return self.E(events, power = 2) - math.pow(self.E(events), 2)\n",
        "        else:\n",
        "            return self.E(power = 2) - math.pow(self.E(), 2)\n"
      ],
      "metadata": {
        "id": "bi6K-OLGXv46"
      },
      "execution_count": null,
      "outputs": []
    },
    {
      "cell_type": "markdown",
      "source": [
        "### Examples\n",
        "\n",
        "\n"
      ],
      "metadata": {
        "id": "UAZhArQDZXBk"
      }
    },
    {
      "cell_type": "markdown",
      "source": [
        "#### Scottish soldier's chest\n"
      ],
      "metadata": {
        "id": "4XM2o-jvaBWJ"
      }
    },
    {
      "cell_type": "markdown",
      "source": [
        "##### Problem\n",
        "\n",
        "<img src=\"https://s2.uupload.ir/files/image_2023-02-05_012000812_u6hh.png\" border=\"0\" alt=\"\" />"
      ],
      "metadata": {
        "id": "JnWBxsBEaUOx"
      }
    },
    {
      "cell_type": "markdown",
      "source": [
        "##### Test Implementation\n",
        "lets implement previous problem and check result for that."
      ],
      "metadata": {
        "id": "69Q1gZVHaeTD"
      }
    },
    {
      "cell_type": "code",
      "source": [
        "# create distribution\n",
        "mu = 39.8\n",
        "sigma = 2.05\n",
        "nor = NormalDistribution(0, 1)  # normal distribution\n",
        "p =  1 - nor.F((40 - mu) / sigma)\n",
        "print(\"P(X >= 40) ~ \", p)\n",
        "\n",
        "# create binomial distribution\n",
        "n = 20\n",
        "bin = BinomialDistribution(n, p)\n",
        "print(\"Result is ~ \", bin.P(5))\n"
      ],
      "metadata": {
        "colab": {
          "base_uri": "https://localhost:8080/"
        },
        "id": "agThDMJgam9S",
        "outputId": "56ca616f-e239-4cba-f4e3-a72b09ccf738"
      },
      "execution_count": null,
      "outputs": [
        {
          "output_type": "stream",
          "name": "stdout",
          "text": [
            "P(X >= 40) ~  0.46114045678789894\n",
            "Result is ~  0.030321003196519997\n"
          ]
        }
      ]
    },
    {
      "cell_type": "markdown",
      "source": [
        "### Graphs\n",
        "here we compare diffrent mu and sigma together"
      ],
      "metadata": {
        "id": "FTPpNVdcgO7x"
      }
    },
    {
      "cell_type": "code",
      "source": [
        "mu1 = 30\n",
        "sigma1 = 5\n",
        "nor1 = NormalDistribution(mu1, sigma1)\n",
        "mu2 = 20\n",
        "sigma2 = 8\n",
        "nor2 = NormalDistribution(mu2, sigma2)\n",
        "\n",
        "mu3 = 10\n",
        "sigma3 = 15\n",
        "nor3 = NormalDistribution(mu3, sigma3)\n",
        "\n",
        "### output\n",
        "print(f\"red: \\t mu: {mu1}  \\t sigma: {sigma1}\")\n",
        "print(f\"green: \\t mu: {mu2}  \\t sigma: {sigma2}\")\n",
        "print(f\"blue: \\t mu: {mu2}  \\t sigma: {sigma3}\")\n",
        "\n",
        "\n",
        "### draw plot\n",
        "start = -100\n",
        "stop = 100\n",
        "steps = 3000\n",
        "\n",
        "draw_continuous_p(nor1, plt, start, stop, steps, 'r')\n",
        "draw_continuous_p(nor2, plt, start, stop, steps, 'g')\n",
        "draw_continuous_p(nor3, plt, start, stop, steps, 'b')\n",
        "plt.show()\n"
      ],
      "metadata": {
        "colab": {
          "base_uri": "https://localhost:8080/",
          "height": 317
        },
        "id": "ChlCPsi6gLR9",
        "outputId": "eb3b1866-e20a-40aa-fe23-5ac7bcc3bde8"
      },
      "execution_count": null,
      "outputs": [
        {
          "output_type": "stream",
          "name": "stdout",
          "text": [
            "red: \t mu: 30  \t sigma: 5\n",
            "green: \t mu: 20  \t sigma: 8\n",
            "blue: \t mu: 20  \t sigma: 15\n"
          ]
        },
        {
          "output_type": "display_data",
          "data": {
            "text/plain": [
              "<Figure size 432x288 with 1 Axes>"
            ],
            "image/png": "[encoded data removed]"
          },
          "metadata": {
            "needs_background": "light"
          }
        }
      ]
    },
    {
      "cell_type": "markdown",
      "source": [
        "### Approximation\n",
        "\n",
        "we can approximate binomial distribution using normal distribution.\n",
        "\n"
      ],
      "metadata": {
        "id": "ZCEjmxqejuW1"
      }
    },
    {
      "cell_type": "code",
      "source": [
        "# Binomial distribution\n",
        "n = 50\n",
        "p = 0.3\n",
        "bin = BinomialDistribution(n, p)\n",
        "space = bin.create_random_space(10000)\n",
        "\n",
        "# Normal distribution\n",
        "mu = bin.E()\n",
        "sigma = math.sqrt(bin.Var())\n",
        "nor = NormalDistribution(mu, sigma)\n",
        "\n",
        "# Normal distribution from random sample\n",
        "smu = bin.E(space)\n",
        "ssigma = math.sqrt(bin.Var(space))\n",
        "snor = NormalDistribution(smu, ssigma)\n",
        "\n",
        "\n",
        "# plot\n",
        "_, ax1, ax2 = draw_p(bin, space)\n",
        "start = 0\n",
        "stop = 25\n",
        "steps = 300\n",
        "\n",
        "draw_continuous_p(nor, ax1, start, stop, steps, 'red')\n",
        "draw_continuous_p(snor, ax2, start, stop, steps, 'b')\n",
        "\n",
        "plt.plot()\n"
      ],
      "metadata": {
        "colab": {
          "base_uri": "https://localhost:8080/",
          "height": 298
        },
        "id": "eoqvEJBTkR4y",
        "outputId": "04f10f0b-705c-4370-e819-a22d0560d722"
      },
      "execution_count": null,
      "outputs": [
        {
          "output_type": "execute_result",
          "data": {
            "text/plain": [
              "[]"
            ]
          },
          "metadata": {},
          "execution_count": 210
        },
        {
          "output_type": "display_data",
          "data": {
            "text/plain": [
              "<Figure size 432x288 with 2 Axes>"
            ],
            "image/png": "[encoded data removed]"
          },
          "metadata": {
            "needs_background": "light"
          }
        }
      ]
    },
    {
      "cell_type": "markdown",
      "source": [
        "## Exponential distribution"
      ],
      "metadata": {
        "id": "MhgdZkvrn434"
      }
    },
    {
      "cell_type": "markdown",
      "source": [
        "### Definition\n",
        "\n",
        "<img src=\"https://s2.uupload.ir/files/image_2023-02-05_022951027_wa0f.png\" border=\"0\" alt=\"\" />"
      ],
      "metadata": {
        "id": "ka0f7YSSqAII"
      }
    },
    {
      "cell_type": "markdown",
      "source": [
        "### Expectation and variance\n",
        "\n",
        "<img src=\"https://s2.uupload.ir/files/image_2023-02-05_023307544_ixkp.png\" border=\"0\" alt=\"\" />\n"
      ],
      "metadata": {
        "id": "23kIbdaBqp5D"
      }
    },
    {
      "cell_type": "markdown",
      "source": [
        "### Implementation\n",
        "\n",
        "here we represent some implementation using landa, with needed functions."
      ],
      "metadata": {
        "id": "-QUILHgLrUuh"
      }
    },
    {
      "cell_type": "code",
      "source": [
        "class ContinuousExponentialDistribution(ContinuousDistribution):\n",
        "    def __init__(self, landa: float):\n",
        "        self.landa: float = landa\n",
        "        pdf = lambda x: (x > 0) * (landa) * math.exp(-landa * x)\n",
        "        F = lambda x: (x > 0) * (1 - math.exp(-landa * x))\n",
        "        super().__init__(pdf, F)\n",
        "    def E(self, events: List[int] = None, power: int = 1):\n",
        "        if events:\n",
        "            pass\n",
        "\n",
        "        elif power == 1:\n",
        "            return 1 / self.landa\n",
        "        elif power == 2:\n",
        "            return 2 / math.pow(self.landa, 2)\n",
        "        else:\n",
        "            pass\n",
        "            # TODO: fix it for any power\n",
        "  \n",
        "\n",
        "    def Var(self, events: List[int] = None):\n",
        "        if events:\n",
        "            return self.E(events, power = 2) - math.pow(self.E(events), 2)\n",
        "        else:\n",
        "            return self.E(power = 2) - math.pow(self.E(), 2)\n"
      ],
      "metadata": {
        "id": "7BiGRpwXrUWv"
      },
      "execution_count": null,
      "outputs": []
    },
    {
      "cell_type": "markdown",
      "source": [
        "### Graphs"
      ],
      "metadata": {
        "id": "1D7e_UX6siJO"
      }
    },
    {
      "cell_type": "code",
      "source": [
        "\n",
        "# create distribution\n",
        "landa = 0.3\n",
        "cexp = ContinuousExponentialDistribution(landa)\n",
        "\n",
        "draw_continuous_graph(cexp, start = 0.1, stop = 10, steps = 200)\n",
        "\n"
      ],
      "metadata": {
        "colab": {
          "base_uri": "https://localhost:8080/",
          "height": 281
        },
        "id": "_VeFPbvGsk0J",
        "outputId": "9686e7d3-250e-4992-bb07-5b22eaf15460"
      },
      "execution_count": null,
      "outputs": [
        {
          "output_type": "display_data",
          "data": {
            "text/plain": [
              "<Figure size 432x288 with 2 Axes>"
            ],
            "image/png": "[encoded data removed]"
          },
          "metadata": {
            "needs_background": "light"
          }
        }
      ]
    },
    {
      "cell_type": "markdown",
      "source": [
        "## Gamma distribution"
      ],
      "metadata": {
        "id": "trRArIoMub5A"
      }
    },
    {
      "cell_type": "markdown",
      "source": [
        "### Definition\n",
        "\n",
        "<img src=\"https://s2.uupload.ir/files/image_2023-02-05_024932397_p5dg.png\" border=\"0\" alt=\"\" />"
      ],
      "metadata": {
        "id": "MIMGHapCuicg"
      }
    },
    {
      "cell_type": "markdown",
      "source": [
        "### Expectation and variance\n",
        "\n",
        "<img src=\"https://s2.uupload.ir/files/image_2023-02-05_025048380_3n7l.png\" border=\"0\" alt=\"\" />\n",
        "<img src=\"https://s2.uupload.ir/files/image_2023-02-05_025131650_e34w.png\" border=\"0\" alt=\"\" />"
      ],
      "metadata": {
        "id": "ieQy_yRmuu32"
      }
    },
    {
      "cell_type": "markdown",
      "source": [
        "### Implementation\n",
        "here we represent some implementation using r and landa, with needed functions."
      ],
      "metadata": {
        "id": "8T-xNVPdwkIu"
      }
    },
    {
      "cell_type": "code",
      "source": [
        "class GammaDistribution(ContinuousDistribution):\n",
        "    def __init__(self, r: float, landa: float):\n",
        "        self.landa: float = landa\n",
        "        self.r: float = r\n",
        "        pdf = lambda x: (x >= 0) * self.landa * math.exp(-self.landa * x) * math.pow(self.landa * x, self.r - 1) / math.gamma(self.r)\n",
        "        super().__init__(pdf)\n",
        "    def E(self, events: List[int] = None, power: int = 1):\n",
        "        if events:\n",
        "            pass\n",
        "\n",
        "        else:\n",
        "            return math.gamma(power + self.r) / (math.gamma(self.r) * math.pow(self.landa, power))\n",
        "  \n",
        "\n",
        "    def Var(self, events: List[int] = None):\n",
        "        if events:\n",
        "            return self.E(events, power = 2) - math.pow(self.E(events), 2)\n",
        "        else:\n",
        "            return self.E(power = 2) - math.pow(self.E(), 2)\n"
      ],
      "metadata": {
        "id": "XH6BPOBcwt7v"
      },
      "execution_count": null,
      "outputs": []
    },
    {
      "cell_type": "markdown",
      "source": [
        "### Graphs"
      ],
      "metadata": {
        "id": "xLAFetS0xgKi"
      }
    },
    {
      "cell_type": "code",
      "source": [
        "r = 4\n",
        "landa = 1/3\n",
        "gam = GammaDistribution(r, landa)\n",
        "\n",
        "draw_continuous_p(gam, plt, start = 0, stop = 30, steps = 200, color = 'b')\n",
        "plt.show()\n"
      ],
      "metadata": {
        "colab": {
          "base_uri": "https://localhost:8080/",
          "height": 265
        },
        "id": "IMM8ml-yxhqI",
        "outputId": "0ad78906-d417-40a1-9622-e70c3a7112a1"
      },
      "execution_count": null,
      "outputs": [
        {
          "output_type": "display_data",
          "data": {
            "text/plain": [
              "<Figure size 432x288 with 1 Axes>"
            ],
            "image/png": "[encoded data removed]"
          },
          "metadata": {
            "needs_background": "light"
          }
        }
      ]
    },
    {
      "cell_type": "markdown",
      "source": [
        "#### More Examples\n",
        "\n"
      ],
      "metadata": {
        "id": "HoLf8RElygG1"
      }
    },
    {
      "cell_type": "markdown",
      "source": [
        "##### Constant lambda\n",
        "in this example landa is 0.25."
      ],
      "metadata": {
        "id": "1FXFXOxMyydq"
      }
    },
    {
      "cell_type": "code",
      "source": [
        "r1 = 2\n",
        "gam1 = GammaDistribution(r1, landa)\n",
        "\n",
        "r2 = 3\n",
        "gam2 = GammaDistribution(r2, landa)\n",
        "\n",
        "r3 = 4\n",
        "gam3 = GammaDistribution(r3, landa)\n",
        "\n",
        "### output\n",
        "print(f\"red: \\t r: {r1}  \\t landa: {landa}\")\n",
        "print(f\"green: \\t r: {r2}  \\t landa: {landa}\")\n",
        "print(f\"blue: \\t r: {r3}  \\t landa: {landa}\")\n",
        "\n",
        "\n",
        "### draw plot\n",
        "start = 0\n",
        "stop = 30\n",
        "steps = 300\n",
        "\n",
        "draw_continuous_p(gam1, plt, start, stop, steps, 'r')\n",
        "draw_continuous_p(gam2, plt, start, stop, steps, 'g')\n",
        "draw_continuous_p(gam3, plt, start, stop, steps, 'b')\n",
        "plt.show()\n"
      ],
      "metadata": {
        "colab": {
          "base_uri": "https://localhost:8080/",
          "height": 317
        },
        "id": "77MdVFgPylFk",
        "outputId": "734326a7-1df9-454e-fd50-31b5a21506bb"
      },
      "execution_count": null,
      "outputs": [
        {
          "output_type": "stream",
          "name": "stdout",
          "text": [
            "red: \t r: 2  \t landa: 0.3333333333333333\n",
            "green: \t r: 3  \t landa: 0.3333333333333333\n",
            "blue: \t r: 4  \t landa: 0.3333333333333333\n"
          ]
        },
        {
          "output_type": "display_data",
          "data": {
            "text/plain": [
              "<Figure size 432x288 with 1 Axes>"
            ],
            "image/png": "[encoded data removed]"
          },
          "metadata": {
            "needs_background": "light"
          }
        }
      ]
    },
    {
      "cell_type": "markdown",
      "source": [
        "##### Constant r\n",
        "in this example r is 4."
      ],
      "metadata": {
        "id": "8W9RL6iW0K5T"
      }
    },
    {
      "cell_type": "code",
      "source": [
        "r = 4\n",
        "landa1 = 0.6\n",
        "gam1 = GammaDistribution(r, landa1)\n",
        "\n",
        "landa2 = 0.5\n",
        "gam2 = GammaDistribution(r, landa2)\n",
        "\n",
        "landa3 = 0.2\n",
        "gam3 = GammaDistribution(r, landa3)\n",
        "\n",
        "### output\n",
        "print(f\"red: \\t r: {r}  \\t landa: {landa1}\")\n",
        "print(f\"green: \\t r: {r}  \\t landa: {landa2}\")\n",
        "print(f\"blue: \\t r: {r}  \\t landa: {landa3}\")\n",
        "\n",
        "\n",
        "### draw plot\n",
        "start = 0\n",
        "stop = 30\n",
        "steps = 300\n",
        "\n",
        "draw_continuous_p(gam1, plt, start, stop, steps, 'r')\n",
        "draw_continuous_p(gam2, plt, start, stop, steps, 'g')\n",
        "draw_continuous_p(gam3, plt, start, stop, steps, 'b')\n",
        "plt.show()\n"
      ],
      "metadata": {
        "colab": {
          "base_uri": "https://localhost:8080/",
          "height": 320
        },
        "id": "ivbL4N5i0dpL",
        "outputId": "ee438ec1-2772-4b8d-af72-8296bc8bc59e"
      },
      "execution_count": null,
      "outputs": [
        {
          "output_type": "stream",
          "name": "stdout",
          "text": [
            "red: \t r: 4  \t landa: 0.6\n",
            "green: \t r: 4  \t landa: 0.5\n",
            "blue: \t r: 4  \t landa: 0.2\n"
          ]
        },
        {
          "output_type": "display_data",
          "data": {
            "text/plain": [
              "<Figure size 432x288 with 1 Axes>"
            ],
            "image/png": "[encoded data removed]"
          },
          "metadata": {
            "needs_background": "light"
          }
        }
      ]
    },
    {
      "cell_type": "markdown",
      "source": [
        "# Contribution\n",
        "\n",
        "fix and complete #TODO tags, and debug it if you find some bugs in it.\n",
        "\n",
        "refactor some part of them which is complicated (this notebook should be as clear as posslible).\n",
        "\n",
        "Thanks for your contribution!"
      ],
      "metadata": {
        "id": "atXg5owK2i3E"
      }
    }
  ]
}